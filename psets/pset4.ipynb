{
 "cells": [
  {
   "cell_type": "markdown",
   "metadata": {},
   "source": [
    "## Problem 1 Poisson equation (Sparse matrices)\n",
    "\n",
    "## 50 pts\n",
    "\n",
    "Consider a 2D Poisson equation\n",
    "$$\n",
    "\\Delta u \\equiv \\frac{\\partial^2 u}{\\partial x^2} + \\frac{\\partial^2 u}{\\partial y^2} = f, \\quad (x,y)\\in [0,1]^2\n",
    "$$ \n",
    "with following boundary conditions\n",
    "$$\n",
    "u\\big|_{x=0} = 0, \\quad  u\\big|_{x=1} = 0, \\quad u\\big|_{y=0} = 0, \\quad u\\big|_{y=1} = 0,\n",
    "$$\n",
    "with known function $f(x,y)$ and unknown $u(x,y)$.\n",
    "\n",
    "To find solution of the Poisson equation we will use the **finite difference method**. Standard second order finite difference discretization on a uniform grid $(x_i, y_j) = (ih, jh)$, $i,j = 0,\\dots, N$, $h = \\frac{1}{N}$ leads to the following system of equations:\n",
    "$$\n",
    "\\begin{split}\n",
    "   &\\frac{u_{i+1,j} - 2u_{i,j} + u_{i-1,j}}{h^2} + \\frac{u_{i,j+1} - 2u_{i,j} + u_{i,j-1}}{h^2} = f(ih,jh) \\\\\n",
    "   &u_{0,j} = u_{i,0} = u_{N,j} = u_{i,N} = 0, \\quad i,j = 1,\\dots,N\n",
    "\\end{split}\n",
    "$$\n",
    "\n",
    "* Check that this system can be written in a matrix form\n",
    "$$\n",
    "A_h u_h = f_h,\n",
    "$$\n",
    "where \n",
    "$$u_h = (u_{1,1},\\dots, u_{1,N-1} , u_{2,1},\\dots, u_{2,N-1}, \\dots, u_{N-1,1},\\dots, u_{N-1,N-1})^T$$\n",
    "$$f_h = (f_{1,1},\\dots, f_{1,N-1} , f_{2,1},\\dots, f_{2,N-1}, \\dots, f_{N-1,1},\\dots, f_{N-1,N-1})^T$$\n",
    "and\n",
    "$$ A_h = I\\otimes a_h + a_h \\otimes I, \\quad a_h = \\frac{1}{h^2}\\mathrm{tridiag\\left( 1,-2,1\\right)},$$\n",
    "where $\\otimes$ denotes [Kronecker product](https://en.wikipedia.org/wiki/Kronecker_product).\n",
    "\n",
    "\n",
    "\n",
    "* Choose $f(x,y)$ such that $u(x, y) = \\sin\\pi x \\sin \\pi y$ is a solution (just substitute $u$ in the Poisson equation and find $f$, then pretend as if you do not know the solution $u$ :)).\n",
    "\n",
    "\n",
    "* Assemble matrix $A_h$ in the `CSR` format using functions from the `scipy.sparse` package (functions `scipy.sparse.kron` and `scipy.sparse.spdiags` might be helpful). <font color='red'> Do not use full matrices! Use only sparse arithmetics </font>\n",
    "\n",
    "\n",
    "* Solve the system using the `scipy.sparse.linalg.spsolve` and make sure that you get solution close to the $u(x, y) = \\sin\\pi x \\sin \\pi y$ (the bigger $N$ you take, the closer to the $u(x, y) = \\sin\\pi x \\sin \\pi y$ you must be).\n",
    "\n",
    "\n",
    "* Run `cg`, `minres`, `GMRES`, `BicgStab` iterative methods for this system for $N=256$ and make plots of residual w.r.t. number of iterations on one plot. Do not forget to provide label names. \n",
    "\n",
    "\n",
    "* What is the method of choice among `cg`, `minres`, `GMRES`, `BicgStab` for this problem? Why? Name advantages and disadvantages of these methods.\n",
    "\n",
    "\n",
    "* Solve the system via an appropriate Krylov method with and without ILU preconditioner (play with different ILU preconditioners and find the one with the smallest number of iterations for this particular problem). To illustrate your answer plot residuals for different ILU preconditioners on one plot. Do you think that less iterations will give you reduced calculation time?\n",
    "\n",
    "\n",
    "* **Bonus:** Find analytically eigenvalues of the matrix $A_h$ and prove that $\\text{cond}( A_h )= \\mathcal{O}\\left(\\frac{1}{h^2}\\right)$"
   ]
  },
  {
   "cell_type": "code",
   "execution_count": null,
   "metadata": {
    "collapsed": false
   },
   "outputs": [],
   "source": []
  },
  {
   "cell_type": "markdown",
   "metadata": {},
   "source": [
    "## Problem 2 Deconvolution (Structured matrices)\n",
    "\n",
    "## 50 pts + 30 pts\n",
    "\n",
    "In the problem set 2 you were asked to find convolution of the Lena image with the following filter\n",
    "$$\n",
    "T_{i_1j_1i_2j_2} \\equiv T_{i_1-j_1,i_2-j_2} = \\frac{\\alpha}{\\pi} e^{-\\alpha \\left[(i_1 - j_1)^2 + (i_2 - j_2)^2 \\right]}, \\quad i_1,j_1, i_2, j_2 = 1,\\dots, n, \\quad \\alpha = \\frac{1}{50}\n",
    "$$\n",
    "\n",
    "* Write matvec function that produces multiplication of $T$ by a given vector $x$. Use `scipy.sparse.linalg.LinearOperator` to create an object that has attribute `.dot()` (this object will be further used in the iterative process). Note that `.dot()` input and output must be 1D vectors, so the function `np.reshape` will be usefull.\n",
    "\n",
    "\n",
    "* Convolve Lena with $T$ for $\\alpha = \\frac{1}{100}$ using the obtained Linear Operator. Plot the result as an image.\n",
    "\n",
    "\n",
    "* Run an appropriate Krylov method with the obtained Linear Operator and try to reconstruct Lena using the right hand side from the previous bullet (smoothed Lena). Plot norm of residual with respect to the number of iterations for different $\\alpha$ and corresponding right hand side. Comment on the results.\n",
    "\n",
    "Find image with your name in the attached to this problem set file. This image is the convolution with $T$ for $\\alpha=\\frac{1}{15}$ with small random noise:\n",
    "<img src='noise.png' width=300>\n",
    "\n",
    "The original image looks like\n",
    "<img src='orig.png'>\n",
    "\n",
    "It contains 3 code lines (e.g. yOu, ArE, aWEs0me).\n",
    "Your goal now is to recognize these 3 codes. Each of them will give you extra 10 pts. Since the problem is very ill-posed you need some regularization techniques, such as Tikhonov regularization. "
   ]
  },
  {
   "cell_type": "code",
   "execution_count": null,
   "metadata": {
    "collapsed": true
   },
   "outputs": [],
   "source": []
  }
 ],
 "metadata": {
  "kernelspec": {
   "display_name": "Python 2",
   "language": "python",
   "name": "python2"
  },
  "language_info": {
   "codemirror_mode": {
    "name": "ipython",
    "version": 2
   },
   "file_extension": ".py",
   "mimetype": "text/x-python",
   "name": "python",
   "nbconvert_exporter": "python",
   "pygments_lexer": "ipython2",
   "version": "2.7.10"
  }
 },
 "nbformat": 4,
 "nbformat_minor": 0
}
