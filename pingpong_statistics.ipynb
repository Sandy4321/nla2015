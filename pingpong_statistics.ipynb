{
 "cells": [
  {
   "cell_type": "markdown",
   "metadata": {},
   "source": [
    "# Statistics"
   ]
  },
  {
   "cell_type": "markdown",
   "metadata": {},
   "source": [
    "## Students\n",
    "\n",
    "1. Anton Tsitsulin 1\n",
    "2. Sergey Golovanov \n",
    "3. Hrinchuk Oleksii\n",
    "4. Astashkin Arseniy\n",
    "5. Xiaoli Li\n",
    "6. Anikin Alexander (P)\n",
    "7. Rykov Andrey (P)\n",
    "8. Salikov Alexandr\n",
    "9. Melekhin Igor\n",
    "10. Ivanov Anton\n",
    "11. Finogina Tamara\n",
    "12. Stolbov Igor (X)\n",
    "13. Ekimov Leonid\n",
    "14. Sannikov Maxim\n",
    "15. Yakubovskij Ilya (P)\n",
    "16. Klokov Roman"
   ]
  }
 ],
 "metadata": {
  "kernelspec": {
   "display_name": "Python 2",
   "language": "python",
   "name": "python2"
  },
  "language_info": {
   "codemirror_mode": {
    "name": "ipython",
    "version": 2
   },
   "file_extension": ".py",
   "mimetype": "text/x-python",
   "name": "python",
   "nbconvert_exporter": "python",
   "pygments_lexer": "ipython2",
   "version": "2.7.10"
  }
 },
 "nbformat": 4,
 "nbformat_minor": 0
}
