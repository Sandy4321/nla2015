{
 "cells": [
  {
   "cell_type": "markdown",
   "metadata": {},
   "source": [
    "# Statistics"
   ]
  },
  {
   "cell_type": "markdown",
   "metadata": {},
   "source": [
    "## Day 1\n",
    "\n",
    "1. Anton Tsitsulin (P)\n",
    "2. Sergey Golovanov \n",
    "3. Hrinchuk Oleksii (P)\n",
    "4. Astashkin Arseniy (P)\n",
    "5. Xiaoli Li (P)\n",
    "6. Anikin Alexander (P)\n",
    "7. Rykov Andrey (P)\n",
    "8. Salikov Alexandr\n",
    "9. Melekhin Igor (P)\n",
    "10. Ivanov Anton (P)\n",
    "11. Finogina Tamara (P)\n",
    "12. Stolbov Igor\n",
    "13. Ekimov Leonid (P)\n",
    "14. Sannikov Maxim (P)\n",
    "15. Yakubovskij Ilya (P)\n",
    "16. Klokov Roman (P)"
   ]
  },
  {
   "cell_type": "markdown",
   "metadata": {},
   "source": [
    "## Day 2\n",
    "\n",
    "17. Gubaev \n",
    "18. Usvyatso'v Mikhail (P)\n",
    "19. Kuzmin Andrey \n",
    "20. John (P)\n",
    "21. Baymurzina (P)\n",
    "22. Shvets Mikhail (P)\n",
    "23. Yasuhiro Inukai (P)\n",
    "24. Khripko Kirill\n",
    "25. Popova Maria (P)\n",
    "26. Sosnovik Ivan\n",
    "27. Osin Vladimir\n",
    "28. Sytov Valentin (P)"
   ]
  },
  {
   "cell_type": "markdown",
   "metadata": {},
   "source": [
    "## Day 3\n",
    "\n",
    "28. Popov Nikita (P)\n",
    "29. Tambova Alexandra (P)\n",
    "30. Balaban Alexandr\n",
    "31. Zhangquan Gong\n",
    "32. Efim Boeru\n",
    "33. Kruglik Stanislav (P)\n",
    "34. Weiwei Zhao\n",
    "35. Makarova Anastasia (P)\n",
    "36. Belev Konstantin (P)\n",
    "37. Karasikov Mikhail (P)\n",
    "38. Akhtyamov Azat\n",
    "39. Olya Strazevich\n",
    "40. Yakovleva (P)"
   ]
  }
 ],
 "metadata": {
  "kernelspec": {
   "display_name": "Python 2",
   "language": "python",
   "name": "python2"
  },
  "language_info": {
   "codemirror_mode": {
    "name": "ipython",
    "version": 2
   },
   "file_extension": ".py",
   "mimetype": "text/x-python",
   "name": "python",
   "nbconvert_exporter": "python",
   "pygments_lexer": "ipython2",
   "version": "2.7.10"
  }
 },
 "nbformat": 4,
 "nbformat_minor": 0
}
