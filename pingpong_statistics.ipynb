{
 "cells": [
  {
   "cell_type": "markdown",
   "metadata": {},
   "source": [
    "# Statistics"
   ]
  },
  {
   "cell_type": "markdown",
   "metadata": {},
   "source": [
    "## Day 1\n",
    "\n",
    "1. Anton Tsitsulin (P)\n",
    "2. Sergey Golovanov (P)\n",
    "3. Hrinchuk Oleksii (P)\n",
    "4. Astashkin Arseniy (P)\n",
    "5. Xiaoli Li (P)\n",
    "6. Anikin Alexander (P)\n",
    "7. Rykov Andrey (P)\n",
    "8. Salikov Alexandr (P)\n",
    "9. Melekhin Igor (P)\n",
    "10. Ivanov Anton (P)\n",
    "11. Finogina Tamara (P)\n",
    "12. Stolbov Igor (P)\n",
    "13. Ekimov Leonid (P)\n",
    "14. Sannikov Maxim (P)\n",
    "15. Yakubovskij Ilya (P)\n",
    "16. Klokov Roman (P)"
   ]
  },
  {
   "cell_type": "markdown",
   "metadata": {},
   "source": [
    "## Day 2\n",
    "\n",
    "17. Gubaev (P)\n",
    "18. Usvyatso'v Mikhail (P)\n",
    "19. Kuzmin Andrey (P)\n",
    "20. John (P)\n",
    "21. Baymurzina (P)\n",
    "22. Shvets Mikhail (P)\n",
    "23. Yasuhiro Inukai (P)\n",
    "24. Khripko Kirill (P)\n",
    "25. Popova Maria (P)\n",
    "26. Sosnovik Ivan (P)\n",
    "27. Osin Vladimir (P)\n",
    "28. Sytov Valentin (P)"
   ]
  },
  {
   "cell_type": "markdown",
   "metadata": {},
   "source": [
    "## Day 3\n",
    "\n",
    "29. Popov Nikita (P)\n",
    "30. Tambova Alexandra (P)\n",
    "31. Balaban Alexandr (P)\n",
    "32. Zhangquan Gong\n",
    "33. Efim Boeru (P)\n",
    "34. Kruglik Stanislav (P)\n",
    "35. Weiwei Zhao (P)\n",
    "36. Makarova Anastasia (P)\n",
    "37. Belev Konstantin (P)\n",
    "38. Karasikov Mikhail (P)\n",
    "39. Akhtyamov Azat (P)\n",
    "40. Olya Strazevich (P)\n",
    "41. Ekaterina Yakovleva (P)"
   ]
  },
  {
   "cell_type": "markdown",
   "metadata": {},
   "source": [
    "## Day 4\n",
    "\n",
    "42. Ulyanov Dmitriy (P)\n",
    "43. Khomenko Oleg (P)\n",
    "44. Elvira Akhiyarova (P)"
   ]
  },
  {
   "cell_type": "markdown",
   "metadata": {},
   "source": [
    "## Day 5\n",
    "45. Hafizi Roohollah (P)\n",
    "46. Alexander Novikov (P)\n",
    "47. Eugeny Kiselev (P)\n",
    "48. Nikita Kluchnikov (P)"
   ]
  },
  {
   "cell_type": "markdown",
   "metadata": {},
   "source": [
    "## Day 6\n",
    "49. Merkulov Daniil (P)"
   ]
  },
  {
   "cell_type": "markdown",
   "metadata": {},
   "source": [
    "## Day 7\n",
    "\n",
    "50. Daniel Bershatsky (P)\n",
    "51. Alexey Mastov (P)"
   ]
  }
 ],
 "metadata": {
  "kernelspec": {
   "display_name": "Python 2",
   "language": "python",
   "name": "python2"
  },
  "language_info": {
   "codemirror_mode": {
    "name": "ipython",
    "version": 2
   },
   "file_extension": ".py",
   "mimetype": "text/x-python",
   "name": "python",
   "nbconvert_exporter": "python",
   "pygments_lexer": "ipython2",
   "version": "2.7.10"
  }
 },
 "nbformat": 4,
 "nbformat_minor": 0
}
